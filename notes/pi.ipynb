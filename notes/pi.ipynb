{
 "cells": [
  {
   "cell_type": "code",
   "execution_count": null,
   "metadata": {},
   "outputs": [
    {
     "name": "stdout",
     "output_type": "stream",
     "text": [
      "Some digits of π:\n",
      "3.141592653589793238462643383279502884197169399375105820974944592307816406286208998628034825342117067982148086513282306647093844609550582231725359408128481117450284102701938521105559644622948954930381964428810975665933446128475648233786783165271201909145648566923460348610454326648213393607260249141273724587006606315588174881520920962829254091715364367892590360011330530548820466521384146951941511609433057270365759591953092186117381932611793105118548074462379962749567351885752724891227938183011949129833673362440656643086021394946395224737190702179860943702770539217176293176752384674818467669405132000568127145263560827785771342757789609173637178721468440901224953430146549585371050792279689258923542019956112129021960864034418159813629774771309960518707211349999998372978049951059731732816096318595024459455346908302642522308253344685035261931188171010003137838752886587533208381420617177669147303598253490428755468731159562863882353787593751957781857780532171226806613001927876611195909216420198\n"
     ]
    }
   ],
   "source": [
    "from decimal import Decimal, getcontext\n",
    "from math import factorial\n",
    "\n",
    "def calculate_pi(precision):\n",
    "    getcontext().prec = precision\n",
    "\n",
    "    C = 426880 * Decimal(10005).sqrt()\n",
    "    L = 13591409\n",
    "    X = 1\n",
    "    M = 1\n",
    "    K = 6\n",
    "    S = L\n",
    "\n",
    "    for i in range(1, precision):\n",
    "        M = M * (K ** 3 - 16 * K) // (i ** 3)\n",
    "        L += 545140134\n",
    "        X *= -262537412640768000\n",
    "        S += Decimal(M * L) / X\n",
    "        K += 12\n",
    "\n",
    "    pi = C / S\n",
    "    return pi\n",
    "\n",
    "def get_pi_digits(num_digits):\n",
    "    \"\"\"Returns specified number of digits of π\"\"\"\n",
    "    precision = num_digits + 1  # Add extra digit for rounding\n",
    "    pi = calculate_pi(precision)\n",
    "    return str(pi)[0:num_digits+1]  # Include decimal point\n",
    "\n",
    "# Example usage\n",
    "if __name__ == \"__main__\":\n",
    "    digits = get_pi_digits(100)\n",
    "    print(f\"Some digits of π:\\n{digits}\")"
   ]
  },
  {
   "cell_type": "code",
   "execution_count": null,
   "metadata": {},
   "outputs": [
    {
     "name": "stdout",
     "output_type": "stream",
     "text": [
      "Implementation is accurate to 1000 digits\n"
     ]
    }
   ],
   "source": [
    "import mpmath\n",
    "from decimal import Decimal, getcontext\n",
    "\n",
    "def test_accuracy():\n",
    "    mpmath.mp.dps = 20000  # Set very high precision for reference\n",
    "    reference_pi = str(mpmath.pi)\n",
    "\n",
    "    # Test in smaller increments for first 1000 digits\n",
    "    for digits in range(1, 1000, 10):\n",
    "        calculated_pi = get_pi_digits(digits + 1)  # Add 1 for decimal point\n",
    "        # Remove decimal point for comparison\n",
    "        calc_clean = calculated_pi.replace('.', '')\n",
    "        ref_clean = reference_pi.replace('.', '')\n",
    "\n",
    "        if calc_clean[:digits] != ref_clean[:digits]:\n",
    "            print(f\"\\nFirst mismatch at {digits} digits\")\n",
    "            print(f\"Expected: {ref_clean[digits-10:digits+10]}\")\n",
    "            print(f\"Got:      {calc_clean[digits-10:digits+10]}\")\n",
    "            # Show exact position of first difference\n",
    "            for i in range(len(calc_clean[:digits])):\n",
    "                if calc_clean[i] != ref_clean[i]:\n",
    "                    print(f\"First different digit at position {i}\")\n",
    "                    print(f\"Expected: {ref_clean[i-5:i+5]}\")\n",
    "                    print(f\"Got:      {calc_clean[i-5:i+5]}\")\n",
    "                    return i\n",
    "            return digits - 1\n",
    "\n",
    "    return 1000\n",
    "\n",
    "if __name__ == \"__main__\":\n",
    "    accurate_digits = test_accuracy()\n",
    "    print(f\"Implementation is accurate to {accurate_digits} digits\")"
   ]
  }
 ],
 "metadata": {
  "kernelspec": {
   "display_name": "Python 3",
   "language": "python",
   "name": "python3"
  },
  "language_info": {
   "codemirror_mode": {
    "name": "ipython",
    "version": 3
   },
   "file_extension": ".py",
   "mimetype": "text/x-python",
   "name": "python",
   "nbconvert_exporter": "python",
   "pygments_lexer": "ipython3",
   "version": "3.10.12"
  }
 },
 "nbformat": 4,
 "nbformat_minor": 2
}
